{
 "cells": [
  {
   "cell_type": "markdown",
   "metadata": {
    "id": "fyQ4KDipfK4A"
   },
   "source": [
    "## **Sleep Disorder Evaluation and Sleep Pattern Enhancement Study**"
   ]
  },
  {
   "cell_type": "code",
   "execution_count": 1,
   "metadata": {
    "colab": {
     "base_uri": "https://localhost:8080/",
     "height": 641
    },
    "id": "xjyWQYO7c-Pr",
    "outputId": "0500332c-6708-40c4-a508-438d4fe72a65"
   },
   "outputs": [
    {
     "data": {
      "text/html": [
       "<div>\n",
       "<style scoped>\n",
       "    .dataframe tbody tr th:only-of-type {\n",
       "        vertical-align: middle;\n",
       "    }\n",
       "\n",
       "    .dataframe tbody tr th {\n",
       "        vertical-align: top;\n",
       "    }\n",
       "\n",
       "    .dataframe thead th {\n",
       "        text-align: right;\n",
       "    }\n",
       "</style>\n",
       "<table border=\"1\" class=\"dataframe\">\n",
       "  <thead>\n",
       "    <tr style=\"text-align: right;\">\n",
       "      <th></th>\n",
       "      <th>Person ID</th>\n",
       "      <th>Gender</th>\n",
       "      <th>Age</th>\n",
       "      <th>Occupation</th>\n",
       "      <th>Sleep Duration</th>\n",
       "      <th>Quality of Sleep</th>\n",
       "      <th>Physical Activity Level</th>\n",
       "      <th>Stress Level</th>\n",
       "      <th>BMI Category</th>\n",
       "      <th>Blood Pressure</th>\n",
       "      <th>Heart Rate</th>\n",
       "      <th>Daily Steps</th>\n",
       "      <th>Sleep Disorder</th>\n",
       "    </tr>\n",
       "  </thead>\n",
       "  <tbody>\n",
       "    <tr>\n",
       "      <th>0</th>\n",
       "      <td>1</td>\n",
       "      <td>Male</td>\n",
       "      <td>27</td>\n",
       "      <td>Software Engineer</td>\n",
       "      <td>6.1</td>\n",
       "      <td>6</td>\n",
       "      <td>42</td>\n",
       "      <td>6</td>\n",
       "      <td>Overweight</td>\n",
       "      <td>126/83</td>\n",
       "      <td>77</td>\n",
       "      <td>4200</td>\n",
       "      <td>None</td>\n",
       "    </tr>\n",
       "    <tr>\n",
       "      <th>1</th>\n",
       "      <td>2</td>\n",
       "      <td>Male</td>\n",
       "      <td>28</td>\n",
       "      <td>Doctor</td>\n",
       "      <td>6.2</td>\n",
       "      <td>6</td>\n",
       "      <td>60</td>\n",
       "      <td>8</td>\n",
       "      <td>Normal</td>\n",
       "      <td>125/80</td>\n",
       "      <td>75</td>\n",
       "      <td>10000</td>\n",
       "      <td>None</td>\n",
       "    </tr>\n",
       "    <tr>\n",
       "      <th>2</th>\n",
       "      <td>3</td>\n",
       "      <td>Male</td>\n",
       "      <td>28</td>\n",
       "      <td>Doctor</td>\n",
       "      <td>6.2</td>\n",
       "      <td>6</td>\n",
       "      <td>60</td>\n",
       "      <td>8</td>\n",
       "      <td>Normal</td>\n",
       "      <td>125/80</td>\n",
       "      <td>75</td>\n",
       "      <td>10000</td>\n",
       "      <td>None</td>\n",
       "    </tr>\n",
       "    <tr>\n",
       "      <th>3</th>\n",
       "      <td>4</td>\n",
       "      <td>Male</td>\n",
       "      <td>28</td>\n",
       "      <td>Sales Representative</td>\n",
       "      <td>5.9</td>\n",
       "      <td>4</td>\n",
       "      <td>30</td>\n",
       "      <td>8</td>\n",
       "      <td>Obese</td>\n",
       "      <td>140/90</td>\n",
       "      <td>85</td>\n",
       "      <td>3000</td>\n",
       "      <td>Sleep Apnea</td>\n",
       "    </tr>\n",
       "    <tr>\n",
       "      <th>4</th>\n",
       "      <td>5</td>\n",
       "      <td>Male</td>\n",
       "      <td>28</td>\n",
       "      <td>Sales Representative</td>\n",
       "      <td>5.9</td>\n",
       "      <td>4</td>\n",
       "      <td>30</td>\n",
       "      <td>8</td>\n",
       "      <td>Obese</td>\n",
       "      <td>140/90</td>\n",
       "      <td>85</td>\n",
       "      <td>3000</td>\n",
       "      <td>Sleep Apnea</td>\n",
       "    </tr>\n",
       "    <tr>\n",
       "      <th>...</th>\n",
       "      <td>...</td>\n",
       "      <td>...</td>\n",
       "      <td>...</td>\n",
       "      <td>...</td>\n",
       "      <td>...</td>\n",
       "      <td>...</td>\n",
       "      <td>...</td>\n",
       "      <td>...</td>\n",
       "      <td>...</td>\n",
       "      <td>...</td>\n",
       "      <td>...</td>\n",
       "      <td>...</td>\n",
       "      <td>...</td>\n",
       "    </tr>\n",
       "    <tr>\n",
       "      <th>369</th>\n",
       "      <td>370</td>\n",
       "      <td>Female</td>\n",
       "      <td>59</td>\n",
       "      <td>Nurse</td>\n",
       "      <td>8.1</td>\n",
       "      <td>9</td>\n",
       "      <td>75</td>\n",
       "      <td>3</td>\n",
       "      <td>Overweight</td>\n",
       "      <td>140/95</td>\n",
       "      <td>68</td>\n",
       "      <td>7000</td>\n",
       "      <td>Sleep Apnea</td>\n",
       "    </tr>\n",
       "    <tr>\n",
       "      <th>370</th>\n",
       "      <td>371</td>\n",
       "      <td>Female</td>\n",
       "      <td>59</td>\n",
       "      <td>Nurse</td>\n",
       "      <td>8.0</td>\n",
       "      <td>9</td>\n",
       "      <td>75</td>\n",
       "      <td>3</td>\n",
       "      <td>Overweight</td>\n",
       "      <td>140/95</td>\n",
       "      <td>68</td>\n",
       "      <td>7000</td>\n",
       "      <td>Sleep Apnea</td>\n",
       "    </tr>\n",
       "    <tr>\n",
       "      <th>371</th>\n",
       "      <td>372</td>\n",
       "      <td>Female</td>\n",
       "      <td>59</td>\n",
       "      <td>Nurse</td>\n",
       "      <td>8.1</td>\n",
       "      <td>9</td>\n",
       "      <td>75</td>\n",
       "      <td>3</td>\n",
       "      <td>Overweight</td>\n",
       "      <td>140/95</td>\n",
       "      <td>68</td>\n",
       "      <td>7000</td>\n",
       "      <td>Sleep Apnea</td>\n",
       "    </tr>\n",
       "    <tr>\n",
       "      <th>372</th>\n",
       "      <td>373</td>\n",
       "      <td>Female</td>\n",
       "      <td>59</td>\n",
       "      <td>Nurse</td>\n",
       "      <td>8.1</td>\n",
       "      <td>9</td>\n",
       "      <td>75</td>\n",
       "      <td>3</td>\n",
       "      <td>Overweight</td>\n",
       "      <td>140/95</td>\n",
       "      <td>68</td>\n",
       "      <td>7000</td>\n",
       "      <td>Sleep Apnea</td>\n",
       "    </tr>\n",
       "    <tr>\n",
       "      <th>373</th>\n",
       "      <td>374</td>\n",
       "      <td>Female</td>\n",
       "      <td>59</td>\n",
       "      <td>Nurse</td>\n",
       "      <td>8.1</td>\n",
       "      <td>9</td>\n",
       "      <td>75</td>\n",
       "      <td>3</td>\n",
       "      <td>Overweight</td>\n",
       "      <td>140/95</td>\n",
       "      <td>68</td>\n",
       "      <td>7000</td>\n",
       "      <td>Sleep Apnea</td>\n",
       "    </tr>\n",
       "  </tbody>\n",
       "</table>\n",
       "<p>374 rows × 13 columns</p>\n",
       "</div>"
      ],
      "text/plain": [
       "     Person ID  Gender  Age            Occupation  Sleep Duration  \\\n",
       "0            1    Male   27     Software Engineer             6.1   \n",
       "1            2    Male   28                Doctor             6.2   \n",
       "2            3    Male   28                Doctor             6.2   \n",
       "3            4    Male   28  Sales Representative             5.9   \n",
       "4            5    Male   28  Sales Representative             5.9   \n",
       "..         ...     ...  ...                   ...             ...   \n",
       "369        370  Female   59                 Nurse             8.1   \n",
       "370        371  Female   59                 Nurse             8.0   \n",
       "371        372  Female   59                 Nurse             8.1   \n",
       "372        373  Female   59                 Nurse             8.1   \n",
       "373        374  Female   59                 Nurse             8.1   \n",
       "\n",
       "     Quality of Sleep  Physical Activity Level  Stress Level BMI Category  \\\n",
       "0                   6                       42             6   Overweight   \n",
       "1                   6                       60             8       Normal   \n",
       "2                   6                       60             8       Normal   \n",
       "3                   4                       30             8        Obese   \n",
       "4                   4                       30             8        Obese   \n",
       "..                ...                      ...           ...          ...   \n",
       "369                 9                       75             3   Overweight   \n",
       "370                 9                       75             3   Overweight   \n",
       "371                 9                       75             3   Overweight   \n",
       "372                 9                       75             3   Overweight   \n",
       "373                 9                       75             3   Overweight   \n",
       "\n",
       "    Blood Pressure  Heart Rate  Daily Steps Sleep Disorder  \n",
       "0           126/83          77         4200           None  \n",
       "1           125/80          75        10000           None  \n",
       "2           125/80          75        10000           None  \n",
       "3           140/90          85         3000    Sleep Apnea  \n",
       "4           140/90          85         3000    Sleep Apnea  \n",
       "..             ...         ...          ...            ...  \n",
       "369         140/95          68         7000    Sleep Apnea  \n",
       "370         140/95          68         7000    Sleep Apnea  \n",
       "371         140/95          68         7000    Sleep Apnea  \n",
       "372         140/95          68         7000    Sleep Apnea  \n",
       "373         140/95          68         7000    Sleep Apnea  \n",
       "\n",
       "[374 rows x 13 columns]"
      ]
     },
     "execution_count": 1,
     "metadata": {},
     "output_type": "execute_result"
    }
   ],
   "source": [
    "                                            #IMPORTING DATASET\n",
    "\n",
    "import pandas as pd\n",
    "df=pd.read_csv('Sleep_health_and_lifestyle_dataset.csv')\n",
    "df"
   ]
  },
  {
   "cell_type": "code",
   "execution_count": 2,
   "metadata": {
    "id": "Y7GKylcFR-uj"
   },
   "outputs": [],
   "source": [
    "df[['SYSTOLIC','DIASTOLIC']]=df['Blood Pressure'].str.split('/',expand=True)\n",
    "df.drop(['Blood Pressure'],axis=1,inplace=True)\n"
   ]
  },
  {
   "cell_type": "code",
   "execution_count": 3,
   "metadata": {
    "id": "LGnekwT6Yz6S"
   },
   "outputs": [],
   "source": [
    "df1=df.copy()\n"
   ]
  },
  {
   "cell_type": "code",
   "execution_count": 4,
   "metadata": {
    "colab": {
     "base_uri": "https://localhost:8080/",
     "height": 537
    },
    "id": "4uL7D-GsY5zi",
    "outputId": "5a150238-4d08-4a8c-f44f-1f106e12df62"
   },
   "outputs": [
    {
     "data": {
      "text/html": [
       "<div>\n",
       "<style scoped>\n",
       "    .dataframe tbody tr th:only-of-type {\n",
       "        vertical-align: middle;\n",
       "    }\n",
       "\n",
       "    .dataframe tbody tr th {\n",
       "        vertical-align: top;\n",
       "    }\n",
       "\n",
       "    .dataframe thead th {\n",
       "        text-align: right;\n",
       "    }\n",
       "</style>\n",
       "<table border=\"1\" class=\"dataframe\">\n",
       "  <thead>\n",
       "    <tr style=\"text-align: right;\">\n",
       "      <th></th>\n",
       "      <th>Person ID</th>\n",
       "      <th>Gender</th>\n",
       "      <th>Age</th>\n",
       "      <th>Occupation</th>\n",
       "      <th>Sleep Duration</th>\n",
       "      <th>Quality of Sleep</th>\n",
       "      <th>Physical Activity Level</th>\n",
       "      <th>Stress Level</th>\n",
       "      <th>BMI Category</th>\n",
       "      <th>Heart Rate</th>\n",
       "      <th>Daily Steps</th>\n",
       "      <th>SYSTOLIC</th>\n",
       "      <th>DIASTOLIC</th>\n",
       "    </tr>\n",
       "  </thead>\n",
       "  <tbody>\n",
       "    <tr>\n",
       "      <th>0</th>\n",
       "      <td>1</td>\n",
       "      <td>Male</td>\n",
       "      <td>27</td>\n",
       "      <td>Software Engineer</td>\n",
       "      <td>6.1</td>\n",
       "      <td>6</td>\n",
       "      <td>42</td>\n",
       "      <td>6</td>\n",
       "      <td>Overweight</td>\n",
       "      <td>77</td>\n",
       "      <td>4200</td>\n",
       "      <td>126</td>\n",
       "      <td>83</td>\n",
       "    </tr>\n",
       "    <tr>\n",
       "      <th>1</th>\n",
       "      <td>2</td>\n",
       "      <td>Male</td>\n",
       "      <td>28</td>\n",
       "      <td>Doctor</td>\n",
       "      <td>6.2</td>\n",
       "      <td>6</td>\n",
       "      <td>60</td>\n",
       "      <td>8</td>\n",
       "      <td>Normal</td>\n",
       "      <td>75</td>\n",
       "      <td>10000</td>\n",
       "      <td>125</td>\n",
       "      <td>80</td>\n",
       "    </tr>\n",
       "    <tr>\n",
       "      <th>2</th>\n",
       "      <td>3</td>\n",
       "      <td>Male</td>\n",
       "      <td>28</td>\n",
       "      <td>Doctor</td>\n",
       "      <td>6.2</td>\n",
       "      <td>6</td>\n",
       "      <td>60</td>\n",
       "      <td>8</td>\n",
       "      <td>Normal</td>\n",
       "      <td>75</td>\n",
       "      <td>10000</td>\n",
       "      <td>125</td>\n",
       "      <td>80</td>\n",
       "    </tr>\n",
       "    <tr>\n",
       "      <th>3</th>\n",
       "      <td>4</td>\n",
       "      <td>Male</td>\n",
       "      <td>28</td>\n",
       "      <td>Sales Representative</td>\n",
       "      <td>5.9</td>\n",
       "      <td>4</td>\n",
       "      <td>30</td>\n",
       "      <td>8</td>\n",
       "      <td>Obese</td>\n",
       "      <td>85</td>\n",
       "      <td>3000</td>\n",
       "      <td>140</td>\n",
       "      <td>90</td>\n",
       "    </tr>\n",
       "    <tr>\n",
       "      <th>4</th>\n",
       "      <td>5</td>\n",
       "      <td>Male</td>\n",
       "      <td>28</td>\n",
       "      <td>Sales Representative</td>\n",
       "      <td>5.9</td>\n",
       "      <td>4</td>\n",
       "      <td>30</td>\n",
       "      <td>8</td>\n",
       "      <td>Obese</td>\n",
       "      <td>85</td>\n",
       "      <td>3000</td>\n",
       "      <td>140</td>\n",
       "      <td>90</td>\n",
       "    </tr>\n",
       "    <tr>\n",
       "      <th>...</th>\n",
       "      <td>...</td>\n",
       "      <td>...</td>\n",
       "      <td>...</td>\n",
       "      <td>...</td>\n",
       "      <td>...</td>\n",
       "      <td>...</td>\n",
       "      <td>...</td>\n",
       "      <td>...</td>\n",
       "      <td>...</td>\n",
       "      <td>...</td>\n",
       "      <td>...</td>\n",
       "      <td>...</td>\n",
       "      <td>...</td>\n",
       "    </tr>\n",
       "    <tr>\n",
       "      <th>369</th>\n",
       "      <td>370</td>\n",
       "      <td>Female</td>\n",
       "      <td>59</td>\n",
       "      <td>Nurse</td>\n",
       "      <td>8.1</td>\n",
       "      <td>9</td>\n",
       "      <td>75</td>\n",
       "      <td>3</td>\n",
       "      <td>Overweight</td>\n",
       "      <td>68</td>\n",
       "      <td>7000</td>\n",
       "      <td>140</td>\n",
       "      <td>95</td>\n",
       "    </tr>\n",
       "    <tr>\n",
       "      <th>370</th>\n",
       "      <td>371</td>\n",
       "      <td>Female</td>\n",
       "      <td>59</td>\n",
       "      <td>Nurse</td>\n",
       "      <td>8.0</td>\n",
       "      <td>9</td>\n",
       "      <td>75</td>\n",
       "      <td>3</td>\n",
       "      <td>Overweight</td>\n",
       "      <td>68</td>\n",
       "      <td>7000</td>\n",
       "      <td>140</td>\n",
       "      <td>95</td>\n",
       "    </tr>\n",
       "    <tr>\n",
       "      <th>371</th>\n",
       "      <td>372</td>\n",
       "      <td>Female</td>\n",
       "      <td>59</td>\n",
       "      <td>Nurse</td>\n",
       "      <td>8.1</td>\n",
       "      <td>9</td>\n",
       "      <td>75</td>\n",
       "      <td>3</td>\n",
       "      <td>Overweight</td>\n",
       "      <td>68</td>\n",
       "      <td>7000</td>\n",
       "      <td>140</td>\n",
       "      <td>95</td>\n",
       "    </tr>\n",
       "    <tr>\n",
       "      <th>372</th>\n",
       "      <td>373</td>\n",
       "      <td>Female</td>\n",
       "      <td>59</td>\n",
       "      <td>Nurse</td>\n",
       "      <td>8.1</td>\n",
       "      <td>9</td>\n",
       "      <td>75</td>\n",
       "      <td>3</td>\n",
       "      <td>Overweight</td>\n",
       "      <td>68</td>\n",
       "      <td>7000</td>\n",
       "      <td>140</td>\n",
       "      <td>95</td>\n",
       "    </tr>\n",
       "    <tr>\n",
       "      <th>373</th>\n",
       "      <td>374</td>\n",
       "      <td>Female</td>\n",
       "      <td>59</td>\n",
       "      <td>Nurse</td>\n",
       "      <td>8.1</td>\n",
       "      <td>9</td>\n",
       "      <td>75</td>\n",
       "      <td>3</td>\n",
       "      <td>Overweight</td>\n",
       "      <td>68</td>\n",
       "      <td>7000</td>\n",
       "      <td>140</td>\n",
       "      <td>95</td>\n",
       "    </tr>\n",
       "  </tbody>\n",
       "</table>\n",
       "<p>374 rows × 13 columns</p>\n",
       "</div>"
      ],
      "text/plain": [
       "     Person ID  Gender  Age            Occupation  Sleep Duration  \\\n",
       "0            1    Male   27     Software Engineer             6.1   \n",
       "1            2    Male   28                Doctor             6.2   \n",
       "2            3    Male   28                Doctor             6.2   \n",
       "3            4    Male   28  Sales Representative             5.9   \n",
       "4            5    Male   28  Sales Representative             5.9   \n",
       "..         ...     ...  ...                   ...             ...   \n",
       "369        370  Female   59                 Nurse             8.1   \n",
       "370        371  Female   59                 Nurse             8.0   \n",
       "371        372  Female   59                 Nurse             8.1   \n",
       "372        373  Female   59                 Nurse             8.1   \n",
       "373        374  Female   59                 Nurse             8.1   \n",
       "\n",
       "     Quality of Sleep  Physical Activity Level  Stress Level BMI Category  \\\n",
       "0                   6                       42             6   Overweight   \n",
       "1                   6                       60             8       Normal   \n",
       "2                   6                       60             8       Normal   \n",
       "3                   4                       30             8        Obese   \n",
       "4                   4                       30             8        Obese   \n",
       "..                ...                      ...           ...          ...   \n",
       "369                 9                       75             3   Overweight   \n",
       "370                 9                       75             3   Overweight   \n",
       "371                 9                       75             3   Overweight   \n",
       "372                 9                       75             3   Overweight   \n",
       "373                 9                       75             3   Overweight   \n",
       "\n",
       "     Heart Rate  Daily Steps SYSTOLIC DIASTOLIC  \n",
       "0            77         4200      126        83  \n",
       "1            75        10000      125        80  \n",
       "2            75        10000      125        80  \n",
       "3            85         3000      140        90  \n",
       "4            85         3000      140        90  \n",
       "..          ...          ...      ...       ...  \n",
       "369          68         7000      140        95  \n",
       "370          68         7000      140        95  \n",
       "371          68         7000      140        95  \n",
       "372          68         7000      140        95  \n",
       "373          68         7000      140        95  \n",
       "\n",
       "[374 rows x 13 columns]"
      ]
     },
     "execution_count": 4,
     "metadata": {},
     "output_type": "execute_result"
    }
   ],
   "source": [
    "df1.drop(['Sleep Disorder'],axis=1,inplace=True)\n",
    "df1"
   ]
  },
  {
   "cell_type": "code",
   "execution_count": 5,
   "metadata": {
    "id": "5XtdjZq7-mEg"
   },
   "outputs": [],
   "source": [
    "df1['Sleep Disorder']=df['Sleep Disorder']"
   ]
  },
  {
   "cell_type": "code",
   "execution_count": 6,
   "metadata": {
    "colab": {
     "base_uri": "https://localhost:8080/",
     "height": 489
    },
    "id": "wmSwsxrN-eJy",
    "outputId": "28dc6bc2-0c48-4d89-92a1-98cf6d341eac"
   },
   "outputs": [
    {
     "data": {
      "text/plain": [
       "[Text(0.5, 1.0, 'GENDER VS SLEEP DISORDERS')]"
      ]
     },
     "execution_count": 6,
     "metadata": {},
     "output_type": "execute_result"
    },
    {
     "data": {
      "image/png": "[encoded data removed]",
      "text/plain": [
       "<Figure size 640x480 with 1 Axes>"
      ]
     },
     "metadata": {},
     "output_type": "display_data"
    }
   ],
   "source": [
    "import seaborn as sns\n",
    "sns.countplot(x='Gender',data=df1,hue='Sleep Disorder').set(title='GENDER VS SLEEP DISORDERS')\n"
   ]
  },
  {
   "cell_type": "code",
   "execution_count": 7,
   "metadata": {
    "id": "yRjdC7RnbhTt"
   },
   "outputs": [],
   "source": [
    "                                          #CONVERTING TO FLOAT\n",
    "\n",
    "df['SYSTOLIC']=df['SYSTOLIC'].astype(float)\n",
    "df['DIASTOLIC']=df['DIASTOLIC'].astype(float)\n",
    "df1['SYSTOLIC']=df1['SYSTOLIC'].astype(float)\n",
    "df1['DIASTOLIC']=df1['DIASTOLIC'].astype(float)"
   ]
  },
  {
   "cell_type": "code",
   "execution_count": 8,
   "metadata": {
    "colab": {
     "base_uri": "https://localhost:8080/"
    },
    "id": "CvwaCnE0ddmB",
    "outputId": "d4e472f4-f714-49e9-ba30-e1f30771ddb8"
   },
   "outputs": [
    {
     "data": {
      "text/plain": [
       "Person ID                    int64\n",
       "Gender                      object\n",
       "Age                          int64\n",
       "Occupation                  object\n",
       "Sleep Duration             float64\n",
       "Quality of Sleep             int64\n",
       "Physical Activity Level      int64\n",
       "Stress Level                 int64\n",
       "BMI Category                object\n",
       "Heart Rate                   int64\n",
       "Daily Steps                  int64\n",
       "Sleep Disorder              object\n",
       "SYSTOLIC                   float64\n",
       "DIASTOLIC                  float64\n",
       "dtype: object"
      ]
     },
     "execution_count": 8,
     "metadata": {},
     "output_type": "execute_result"
    }
   ],
   "source": [
    "                                        #CHECKING FOR MISSING VALUES AND CHECK TYPES\n",
    "\n",
    "df.isna().sum()\n",
    "df.dtypes"
   ]
  },
  {
   "cell_type": "code",
   "execution_count": 9,
   "metadata": {
    "colab": {
     "base_uri": "https://localhost:8080/"
    },
    "id": "xwB34ZbGjNE0",
    "outputId": "861b7c08-5af7-465f-c594-1c41aaec48c2"
   },
   "outputs": [
    {
     "data": {
      "text/plain": [
       "None           219\n",
       "Sleep Apnea     78\n",
       "Insomnia        77\n",
       "Name: Sleep Disorder, dtype: int64"
      ]
     },
     "execution_count": 9,
     "metadata": {},
     "output_type": "execute_result"
    }
   ],
   "source": [
    "df['Sleep Disorder'].value_counts()"
   ]
  },
  {
   "cell_type": "code",
   "execution_count": 10,
   "metadata": {
    "colab": {
     "base_uri": "https://localhost:8080/"
    },
    "id": "lGiI2EUIkvn3",
    "outputId": "97e8e773-0f6a-45c3-f088-db1aa2ee6ca8"
   },
   "outputs": [
    {
     "data": {
      "text/plain": [
       "Nurse                   73\n",
       "Doctor                  71\n",
       "Engineer                63\n",
       "Lawyer                  47\n",
       "Teacher                 40\n",
       "Accountant              37\n",
       "Salesperson             32\n",
       "Software Engineer        4\n",
       "Scientist                4\n",
       "Sales Representative     2\n",
       "Manager                  1\n",
       "Name: Occupation, dtype: int64"
      ]
     },
     "execution_count": 10,
     "metadata": {},
     "output_type": "execute_result"
    }
   ],
   "source": [
    "df['Occupation'].value_counts()"
   ]
  },
  {
   "cell_type": "code",
   "execution_count": 11,
   "metadata": {
    "id": "XK_xpHO-A6kl"
   },
   "outputs": [],
   "source": [
    "import warnings\n",
    "warnings.filterwarnings('ignore')"
   ]
  },
  {
   "cell_type": "code",
   "execution_count": 12,
   "metadata": {
    "colab": {
     "base_uri": "https://localhost:8080/",
     "height": 624
    },
    "id": "XoAI0d7ueR7K",
    "outputId": "5442de71-568d-4967-d168-06b828f62176"
   },
   "outputs": [
    {
     "data": {
      "text/html": [
       "<div>\n",
       "<style scoped>\n",
       "    .dataframe tbody tr th:only-of-type {\n",
       "        vertical-align: middle;\n",
       "    }\n",
       "\n",
       "    .dataframe tbody tr th {\n",
       "        vertical-align: top;\n",
       "    }\n",
       "\n",
       "    .dataframe thead th {\n",
       "        text-align: right;\n",
       "    }\n",
       "</style>\n",
       "<table border=\"1\" class=\"dataframe\">\n",
       "  <thead>\n",
       "    <tr style=\"text-align: right;\">\n",
       "      <th></th>\n",
       "      <th>Person ID</th>\n",
       "      <th>Gender</th>\n",
       "      <th>Age</th>\n",
       "      <th>Occupation</th>\n",
       "      <th>Sleep Duration</th>\n",
       "      <th>Quality of Sleep</th>\n",
       "      <th>Physical Activity Level</th>\n",
       "      <th>Stress Level</th>\n",
       "      <th>BMI Category</th>\n",
       "      <th>Heart Rate</th>\n",
       "      <th>Daily Steps</th>\n",
       "      <th>SYSTOLIC</th>\n",
       "      <th>DIASTOLIC</th>\n",
       "      <th>Sleep Disorder</th>\n",
       "    </tr>\n",
       "  </thead>\n",
       "  <tbody>\n",
       "    <tr>\n",
       "      <th>0</th>\n",
       "      <td>1</td>\n",
       "      <td>1</td>\n",
       "      <td>27</td>\n",
       "      <td>9</td>\n",
       "      <td>6.1</td>\n",
       "      <td>6</td>\n",
       "      <td>42</td>\n",
       "      <td>6</td>\n",
       "      <td>3</td>\n",
       "      <td>77</td>\n",
       "      <td>4200</td>\n",
       "      <td>126.0</td>\n",
       "      <td>83.0</td>\n",
       "      <td>None</td>\n",
       "    </tr>\n",
       "    <tr>\n",
       "      <th>1</th>\n",
       "      <td>2</td>\n",
       "      <td>1</td>\n",
       "      <td>28</td>\n",
       "      <td>1</td>\n",
       "      <td>6.2</td>\n",
       "      <td>6</td>\n",
       "      <td>60</td>\n",
       "      <td>8</td>\n",
       "      <td>0</td>\n",
       "      <td>75</td>\n",
       "      <td>10000</td>\n",
       "      <td>125.0</td>\n",
       "      <td>80.0</td>\n",
       "      <td>None</td>\n",
       "    </tr>\n",
       "    <tr>\n",
       "      <th>2</th>\n",
       "      <td>3</td>\n",
       "      <td>1</td>\n",
       "      <td>28</td>\n",
       "      <td>1</td>\n",
       "      <td>6.2</td>\n",
       "      <td>6</td>\n",
       "      <td>60</td>\n",
       "      <td>8</td>\n",
       "      <td>0</td>\n",
       "      <td>75</td>\n",
       "      <td>10000</td>\n",
       "      <td>125.0</td>\n",
       "      <td>80.0</td>\n",
       "      <td>None</td>\n",
       "    </tr>\n",
       "    <tr>\n",
       "      <th>3</th>\n",
       "      <td>4</td>\n",
       "      <td>1</td>\n",
       "      <td>28</td>\n",
       "      <td>6</td>\n",
       "      <td>5.9</td>\n",
       "      <td>4</td>\n",
       "      <td>30</td>\n",
       "      <td>8</td>\n",
       "      <td>2</td>\n",
       "      <td>85</td>\n",
       "      <td>3000</td>\n",
       "      <td>140.0</td>\n",
       "      <td>90.0</td>\n",
       "      <td>Sleep Apnea</td>\n",
       "    </tr>\n",
       "    <tr>\n",
       "      <th>4</th>\n",
       "      <td>5</td>\n",
       "      <td>1</td>\n",
       "      <td>28</td>\n",
       "      <td>6</td>\n",
       "      <td>5.9</td>\n",
       "      <td>4</td>\n",
       "      <td>30</td>\n",
       "      <td>8</td>\n",
       "      <td>2</td>\n",
       "      <td>85</td>\n",
       "      <td>3000</td>\n",
       "      <td>140.0</td>\n",
       "      <td>90.0</td>\n",
       "      <td>Sleep Apnea</td>\n",
       "    </tr>\n",
       "    <tr>\n",
       "      <th>...</th>\n",
       "      <td>...</td>\n",
       "      <td>...</td>\n",
       "      <td>...</td>\n",
       "      <td>...</td>\n",
       "      <td>...</td>\n",
       "      <td>...</td>\n",
       "      <td>...</td>\n",
       "      <td>...</td>\n",
       "      <td>...</td>\n",
       "      <td>...</td>\n",
       "      <td>...</td>\n",
       "      <td>...</td>\n",
       "      <td>...</td>\n",
       "      <td>...</td>\n",
       "    </tr>\n",
       "    <tr>\n",
       "      <th>369</th>\n",
       "      <td>370</td>\n",
       "      <td>0</td>\n",
       "      <td>59</td>\n",
       "      <td>5</td>\n",
       "      <td>8.1</td>\n",
       "      <td>9</td>\n",
       "      <td>75</td>\n",
       "      <td>3</td>\n",
       "      <td>3</td>\n",
       "      <td>68</td>\n",
       "      <td>7000</td>\n",
       "      <td>140.0</td>\n",
       "      <td>95.0</td>\n",
       "      <td>Sleep Apnea</td>\n",
       "    </tr>\n",
       "    <tr>\n",
       "      <th>370</th>\n",
       "      <td>371</td>\n",
       "      <td>0</td>\n",
       "      <td>59</td>\n",
       "      <td>5</td>\n",
       "      <td>8.0</td>\n",
       "      <td>9</td>\n",
       "      <td>75</td>\n",
       "      <td>3</td>\n",
       "      <td>3</td>\n",
       "      <td>68</td>\n",
       "      <td>7000</td>\n",
       "      <td>140.0</td>\n",
       "      <td>95.0</td>\n",
       "      <td>Sleep Apnea</td>\n",
       "    </tr>\n",
       "    <tr>\n",
       "      <th>371</th>\n",
       "      <td>372</td>\n",
       "      <td>0</td>\n",
       "      <td>59</td>\n",
       "      <td>5</td>\n",
       "      <td>8.1</td>\n",
       "      <td>9</td>\n",
       "      <td>75</td>\n",
       "      <td>3</td>\n",
       "      <td>3</td>\n",
       "      <td>68</td>\n",
       "      <td>7000</td>\n",
       "      <td>140.0</td>\n",
       "      <td>95.0</td>\n",
       "      <td>Sleep Apnea</td>\n",
       "    </tr>\n",
       "    <tr>\n",
       "      <th>372</th>\n",
       "      <td>373</td>\n",
       "      <td>0</td>\n",
       "      <td>59</td>\n",
       "      <td>5</td>\n",
       "      <td>8.1</td>\n",
       "      <td>9</td>\n",
       "      <td>75</td>\n",
       "      <td>3</td>\n",
       "      <td>3</td>\n",
       "      <td>68</td>\n",
       "      <td>7000</td>\n",
       "      <td>140.0</td>\n",
       "      <td>95.0</td>\n",
       "      <td>Sleep Apnea</td>\n",
       "    </tr>\n",
       "    <tr>\n",
       "      <th>373</th>\n",
       "      <td>374</td>\n",
       "      <td>0</td>\n",
       "      <td>59</td>\n",
       "      <td>5</td>\n",
       "      <td>8.1</td>\n",
       "      <td>9</td>\n",
       "      <td>75</td>\n",
       "      <td>3</td>\n",
       "      <td>3</td>\n",
       "      <td>68</td>\n",
       "      <td>7000</td>\n",
       "      <td>140.0</td>\n",
       "      <td>95.0</td>\n",
       "      <td>Sleep Apnea</td>\n",
       "    </tr>\n",
       "  </tbody>\n",
       "</table>\n",
       "<p>374 rows × 14 columns</p>\n",
       "</div>"
      ],
      "text/plain": [
       "     Person ID  Gender  Age  Occupation  Sleep Duration  Quality of Sleep  \\\n",
       "0            1       1   27           9             6.1                 6   \n",
       "1            2       1   28           1             6.2                 6   \n",
       "2            3       1   28           1             6.2                 6   \n",
       "3            4       1   28           6             5.9                 4   \n",
       "4            5       1   28           6             5.9                 4   \n",
       "..         ...     ...  ...         ...             ...               ...   \n",
       "369        370       0   59           5             8.1                 9   \n",
       "370        371       0   59           5             8.0                 9   \n",
       "371        372       0   59           5             8.1                 9   \n",
       "372        373       0   59           5             8.1                 9   \n",
       "373        374       0   59           5             8.1                 9   \n",
       "\n",
       "     Physical Activity Level  Stress Level  BMI Category  Heart Rate  \\\n",
       "0                         42             6             3          77   \n",
       "1                         60             8             0          75   \n",
       "2                         60             8             0          75   \n",
       "3                         30             8             2          85   \n",
       "4                         30             8             2          85   \n",
       "..                       ...           ...           ...         ...   \n",
       "369                       75             3             3          68   \n",
       "370                       75             3             3          68   \n",
       "371                       75             3             3          68   \n",
       "372                       75             3             3          68   \n",
       "373                       75             3             3          68   \n",
       "\n",
       "     Daily Steps  SYSTOLIC  DIASTOLIC Sleep Disorder  \n",
       "0           4200     126.0       83.0           None  \n",
       "1          10000     125.0       80.0           None  \n",
       "2          10000     125.0       80.0           None  \n",
       "3           3000     140.0       90.0    Sleep Apnea  \n",
       "4           3000     140.0       90.0    Sleep Apnea  \n",
       "..           ...       ...        ...            ...  \n",
       "369         7000     140.0       95.0    Sleep Apnea  \n",
       "370         7000     140.0       95.0    Sleep Apnea  \n",
       "371         7000     140.0       95.0    Sleep Apnea  \n",
       "372         7000     140.0       95.0    Sleep Apnea  \n",
       "373         7000     140.0       95.0    Sleep Apnea  \n",
       "\n",
       "[374 rows x 14 columns]"
      ]
     },
     "execution_count": 12,
     "metadata": {},
     "output_type": "execute_result"
    }
   ],
   "source": [
    "                                        #LABELING ENCODING\n",
    "\n",
    "from sklearn.preprocessing import LabelEncoder\n",
    "le=LabelEncoder()\n",
    "df1['Occupation']=le.fit_transform(df1['Occupation'])\n",
    "df1['BMI Category']=le.fit_transform(df1['BMI Category'])\n",
    "df['Sleep Disorder']=le.fit_transform(df['Sleep Disorder'])\n",
    "df1['Gender']=le.fit_transform(df1['Gender'])\n",
    "df1"
   ]
  },
  {
   "cell_type": "code",
   "execution_count": 13,
   "metadata": {
    "colab": {
     "base_uri": "https://localhost:8080/",
     "height": 502
    },
    "id": "h3gIX4e_zLKw",
    "outputId": "14a3ea8c-524c-4326-ff3e-4cf0c87ae5fc"
   },
   "outputs": [
    {
     "data": {
      "text/html": [
       "<div>\n",
       "<style scoped>\n",
       "    .dataframe tbody tr th:only-of-type {\n",
       "        vertical-align: middle;\n",
       "    }\n",
       "\n",
       "    .dataframe tbody tr th {\n",
       "        vertical-align: top;\n",
       "    }\n",
       "\n",
       "    .dataframe thead th {\n",
       "        text-align: right;\n",
       "    }\n",
       "</style>\n",
       "<table border=\"1\" class=\"dataframe\">\n",
       "  <thead>\n",
       "    <tr style=\"text-align: right;\">\n",
       "      <th></th>\n",
       "      <th>Person ID</th>\n",
       "      <th>Gender</th>\n",
       "      <th>Age</th>\n",
       "      <th>Occupation</th>\n",
       "      <th>Sleep Duration</th>\n",
       "      <th>Quality of Sleep</th>\n",
       "      <th>Physical Activity Level</th>\n",
       "      <th>Stress Level</th>\n",
       "      <th>BMI Category</th>\n",
       "      <th>Heart Rate</th>\n",
       "      <th>Daily Steps</th>\n",
       "      <th>SYSTOLIC</th>\n",
       "      <th>DIASTOLIC</th>\n",
       "      <th>Sleep Disorder</th>\n",
       "    </tr>\n",
       "  </thead>\n",
       "  <tbody>\n",
       "    <tr>\n",
       "      <th>0</th>\n",
       "      <td>1</td>\n",
       "      <td>1</td>\n",
       "      <td>27</td>\n",
       "      <td>9</td>\n",
       "      <td>6.1</td>\n",
       "      <td>6</td>\n",
       "      <td>42</td>\n",
       "      <td>6</td>\n",
       "      <td>3</td>\n",
       "      <td>77</td>\n",
       "      <td>4200</td>\n",
       "      <td>126.0</td>\n",
       "      <td>83.0</td>\n",
       "      <td>1</td>\n",
       "    </tr>\n",
       "    <tr>\n",
       "      <th>1</th>\n",
       "      <td>2</td>\n",
       "      <td>1</td>\n",
       "      <td>28</td>\n",
       "      <td>1</td>\n",
       "      <td>6.2</td>\n",
       "      <td>6</td>\n",
       "      <td>60</td>\n",
       "      <td>8</td>\n",
       "      <td>0</td>\n",
       "      <td>75</td>\n",
       "      <td>10000</td>\n",
       "      <td>125.0</td>\n",
       "      <td>80.0</td>\n",
       "      <td>1</td>\n",
       "    </tr>\n",
       "    <tr>\n",
       "      <th>2</th>\n",
       "      <td>3</td>\n",
       "      <td>1</td>\n",
       "      <td>28</td>\n",
       "      <td>1</td>\n",
       "      <td>6.2</td>\n",
       "      <td>6</td>\n",
       "      <td>60</td>\n",
       "      <td>8</td>\n",
       "      <td>0</td>\n",
       "      <td>75</td>\n",
       "      <td>10000</td>\n",
       "      <td>125.0</td>\n",
       "      <td>80.0</td>\n",
       "      <td>1</td>\n",
       "    </tr>\n",
       "    <tr>\n",
       "      <th>3</th>\n",
       "      <td>4</td>\n",
       "      <td>1</td>\n",
       "      <td>28</td>\n",
       "      <td>6</td>\n",
       "      <td>5.9</td>\n",
       "      <td>4</td>\n",
       "      <td>30</td>\n",
       "      <td>8</td>\n",
       "      <td>2</td>\n",
       "      <td>85</td>\n",
       "      <td>3000</td>\n",
       "      <td>140.0</td>\n",
       "      <td>90.0</td>\n",
       "      <td>2</td>\n",
       "    </tr>\n",
       "    <tr>\n",
       "      <th>4</th>\n",
       "      <td>5</td>\n",
       "      <td>1</td>\n",
       "      <td>28</td>\n",
       "      <td>6</td>\n",
       "      <td>5.9</td>\n",
       "      <td>4</td>\n",
       "      <td>30</td>\n",
       "      <td>8</td>\n",
       "      <td>2</td>\n",
       "      <td>85</td>\n",
       "      <td>3000</td>\n",
       "      <td>140.0</td>\n",
       "      <td>90.0</td>\n",
       "      <td>2</td>\n",
       "    </tr>\n",
       "    <tr>\n",
       "      <th>...</th>\n",
       "      <td>...</td>\n",
       "      <td>...</td>\n",
       "      <td>...</td>\n",
       "      <td>...</td>\n",
       "      <td>...</td>\n",
       "      <td>...</td>\n",
       "      <td>...</td>\n",
       "      <td>...</td>\n",
       "      <td>...</td>\n",
       "      <td>...</td>\n",
       "      <td>...</td>\n",
       "      <td>...</td>\n",
       "      <td>...</td>\n",
       "      <td>...</td>\n",
       "    </tr>\n",
       "    <tr>\n",
       "      <th>369</th>\n",
       "      <td>370</td>\n",
       "      <td>0</td>\n",
       "      <td>59</td>\n",
       "      <td>5</td>\n",
       "      <td>8.1</td>\n",
       "      <td>9</td>\n",
       "      <td>75</td>\n",
       "      <td>3</td>\n",
       "      <td>3</td>\n",
       "      <td>68</td>\n",
       "      <td>7000</td>\n",
       "      <td>140.0</td>\n",
       "      <td>95.0</td>\n",
       "      <td>2</td>\n",
       "    </tr>\n",
       "    <tr>\n",
       "      <th>370</th>\n",
       "      <td>371</td>\n",
       "      <td>0</td>\n",
       "      <td>59</td>\n",
       "      <td>5</td>\n",
       "      <td>8.0</td>\n",
       "      <td>9</td>\n",
       "      <td>75</td>\n",
       "      <td>3</td>\n",
       "      <td>3</td>\n",
       "      <td>68</td>\n",
       "      <td>7000</td>\n",
       "      <td>140.0</td>\n",
       "      <td>95.0</td>\n",
       "      <td>2</td>\n",
       "    </tr>\n",
       "    <tr>\n",
       "      <th>371</th>\n",
       "      <td>372</td>\n",
       "      <td>0</td>\n",
       "      <td>59</td>\n",
       "      <td>5</td>\n",
       "      <td>8.1</td>\n",
       "      <td>9</td>\n",
       "      <td>75</td>\n",
       "      <td>3</td>\n",
       "      <td>3</td>\n",
       "      <td>68</td>\n",
       "      <td>7000</td>\n",
       "      <td>140.0</td>\n",
       "      <td>95.0</td>\n",
       "      <td>2</td>\n",
       "    </tr>\n",
       "    <tr>\n",
       "      <th>372</th>\n",
       "      <td>373</td>\n",
       "      <td>0</td>\n",
       "      <td>59</td>\n",
       "      <td>5</td>\n",
       "      <td>8.1</td>\n",
       "      <td>9</td>\n",
       "      <td>75</td>\n",
       "      <td>3</td>\n",
       "      <td>3</td>\n",
       "      <td>68</td>\n",
       "      <td>7000</td>\n",
       "      <td>140.0</td>\n",
       "      <td>95.0</td>\n",
       "      <td>2</td>\n",
       "    </tr>\n",
       "    <tr>\n",
       "      <th>373</th>\n",
       "      <td>374</td>\n",
       "      <td>0</td>\n",
       "      <td>59</td>\n",
       "      <td>5</td>\n",
       "      <td>8.1</td>\n",
       "      <td>9</td>\n",
       "      <td>75</td>\n",
       "      <td>3</td>\n",
       "      <td>3</td>\n",
       "      <td>68</td>\n",
       "      <td>7000</td>\n",
       "      <td>140.0</td>\n",
       "      <td>95.0</td>\n",
       "      <td>2</td>\n",
       "    </tr>\n",
       "  </tbody>\n",
       "</table>\n",
       "<p>374 rows × 14 columns</p>\n",
       "</div>"
      ],
      "text/plain": [
       "     Person ID  Gender  Age  Occupation  Sleep Duration  Quality of Sleep  \\\n",
       "0            1       1   27           9             6.1                 6   \n",
       "1            2       1   28           1             6.2                 6   \n",
       "2            3       1   28           1             6.2                 6   \n",
       "3            4       1   28           6             5.9                 4   \n",
       "4            5       1   28           6             5.9                 4   \n",
       "..         ...     ...  ...         ...             ...               ...   \n",
       "369        370       0   59           5             8.1                 9   \n",
       "370        371       0   59           5             8.0                 9   \n",
       "371        372       0   59           5             8.1                 9   \n",
       "372        373       0   59           5             8.1                 9   \n",
       "373        374       0   59           5             8.1                 9   \n",
       "\n",
       "     Physical Activity Level  Stress Level  BMI Category  Heart Rate  \\\n",
       "0                         42             6             3          77   \n",
       "1                         60             8             0          75   \n",
       "2                         60             8             0          75   \n",
       "3                         30             8             2          85   \n",
       "4                         30             8             2          85   \n",
       "..                       ...           ...           ...         ...   \n",
       "369                       75             3             3          68   \n",
       "370                       75             3             3          68   \n",
       "371                       75             3             3          68   \n",
       "372                       75             3             3          68   \n",
       "373                       75             3             3          68   \n",
       "\n",
       "     Daily Steps  SYSTOLIC  DIASTOLIC  Sleep Disorder  \n",
       "0           4200     126.0       83.0               1  \n",
       "1          10000     125.0       80.0               1  \n",
       "2          10000     125.0       80.0               1  \n",
       "3           3000     140.0       90.0               2  \n",
       "4           3000     140.0       90.0               2  \n",
       "..           ...       ...        ...             ...  \n",
       "369         7000     140.0       95.0               2  \n",
       "370         7000     140.0       95.0               2  \n",
       "371         7000     140.0       95.0               2  \n",
       "372         7000     140.0       95.0               2  \n",
       "373         7000     140.0       95.0               2  \n",
       "\n",
       "[374 rows x 14 columns]"
      ]
     },
     "execution_count": 13,
     "metadata": {},
     "output_type": "execute_result"
    }
   ],
   "source": [
    "df1['Sleep Disorder']=df['Sleep Disorder']\n",
    "df1"
   ]
  },
  {
   "cell_type": "code",
   "execution_count": 14,
   "metadata": {
    "id": "WPo_gDKbciRS"
   },
   "outputs": [],
   "source": [
    "                                   #SEPERATE X AND Y\n",
    "\n",
    "X=df1.iloc[:,1:-1]\n",
    "y=df1.iloc[:,-1]"
   ]
  },
  {
   "cell_type": "code",
   "execution_count": 15,
   "metadata": {
    "id": "yWkwl7M2_1oh"
   },
   "outputs": [],
   "source": [
    "                                  #OVERSAMPLING THE DATA\n",
    "\n",
    "from imblearn.over_sampling import SMOTE\n",
    "os=SMOTE(random_state=1)\n",
    "X,y=os.fit_resample(X,y)"
   ]
  },
  {
   "cell_type": "code",
   "execution_count": 16,
   "metadata": {
    "colab": {
     "base_uri": "https://localhost:8080/",
     "height": 489
    },
    "id": "wEW3RUf3Ertp",
    "outputId": "b918f313-5188-4005-85bc-c1815e80c465"
   },
   "outputs": [
    {
     "data": {
      "text/plain": [
       "[Text(0.5, 1.0, 'SLEEP DURATION VS QUALITY OF SLEEP')]"
      ]
     },
     "execution_count": 16,
     "metadata": {},
     "output_type": "execute_result"
    },
    {
     "data": {
      "image/png": "[encoded data removed]",
      "text/plain": [
       "<Figure size 640x480 with 1 Axes>"
      ]
     },
     "metadata": {},
     "output_type": "display_data"
    }
   ],
   "source": [
    "sns.barplot(x='Sleep Duration',y='Quality of Sleep',data=df1).set(title='SLEEP DURATION VS QUALITY OF SLEEP')"
   ]
  },
  {
   "cell_type": "markdown",
   "metadata": {
    "id": "eu6575IoHmSa"
   },
   "source": [
    "**FROM GRAPH,QUALITY OF SLEEP INCREASES WITH SLEEP DURATION**"
   ]
  },
  {
   "cell_type": "code",
   "execution_count": 17,
   "metadata": {
    "colab": {
     "base_uri": "https://localhost:8080/",
     "height": 489
    },
    "id": "9pjt1h5vHcPg",
    "outputId": "5145f321-6e67-4522-c422-555b17299d12"
   },
   "outputs": [
    {
     "data": {
      "text/plain": [
       "[Text(0.5, 1.0, 'Stress Level VS QUALITY OF SLEEP')]"
      ]
     },
     "execution_count": 17,
     "metadata": {},
     "output_type": "execute_result"
    },
    {
     "data": {
      "image/png": "[encoded data removed]",
      "text/plain": [
       "<Figure size 640x480 with 1 Axes>"
      ]
     },
     "metadata": {},
     "output_type": "display_data"
    }
   ],
   "source": [
    "sns.barplot(x='Stress Level',y='Quality of Sleep',data=df1).set(title='Stress Level VS QUALITY OF SLEEP')"
   ]
  },
  {
   "cell_type": "markdown",
   "metadata": {
    "id": "sppyCmWZIBMX"
   },
   "source": [
    "**QUALITY OF SLEEP DECREASES WITH INCREASE IN STRESS**"
   ]
  },
  {
   "cell_type": "code",
   "execution_count": 18,
   "metadata": {
    "id": "5uCn9j89cqfp"
   },
   "outputs": [],
   "source": [
    "                                        #SCALING\n",
    "\n",
    "from sklearn.preprocessing import MinMaxScaler\n",
    "mm=MinMaxScaler()\n",
    "X=mm.fit_transform(X)"
   ]
  },
  {
   "cell_type": "code",
   "execution_count": 19,
   "metadata": {
    "id": "JC3XrwnjdW0z"
   },
   "outputs": [],
   "source": [
    "                                     #TRAINING TEST SPLIT\n",
    "\n",
    "from sklearn.model_selection import train_test_split\n",
    "X_train,X_test,y_train,y_test=train_test_split(X,y,test_size=0.3,random_state=1)"
   ]
  },
  {
   "cell_type": "code",
   "execution_count": 20,
   "metadata": {
    "id": "ZOkyGR5BVLUO"
   },
   "outputs": [],
   "source": [
    "                                  #PRINCIPAL COMPONENT ANALYSIS\n",
    "\n",
    "# from sklearn.decomposition import PCA\n",
    "# pca=PCA(n_components=2)\n",
    "# X_train=pca.fit_transform(X_train)\n",
    "# X_test=pca.transform(X_test)\n",
    "# pca.explained_variance_ratio_"
   ]
  },
  {
   "cell_type": "code",
   "execution_count": 21,
   "metadata": {
    "id": "nFQm7BvRG-Ip"
   },
   "outputs": [],
   "source": [
    "                                   #CHI2 SQUARE METHOD\n",
    "\n",
    "# from sklearn.feature_selection import SelectKBest,chi2\n",
    "# chi2_sel=SelectKBest(chi2,k=10).fit_transform(X,y)\n",
    "# X_train,X_test,y_train,y_test=train_test_split(chi2_sel,y,test_size=0.3,random_state=1)\n"
   ]
  },
  {
   "cell_type": "markdown",
   "metadata": {
    "id": "yx6yQn1IBjJA"
   },
   "source": [
    "# **MODEL DEVELOPMENT**"
   ]
  },
  {
   "cell_type": "code",
   "execution_count": 22,
   "metadata": {
    "colab": {
     "base_uri": "https://localhost:8080/"
    },
    "id": "5yETQLyRd35j",
    "outputId": "63967288-e00e-4474-dc43-7a726cc0c003"
   },
   "outputs": [
    {
     "name": "stdout",
     "output_type": "stream",
     "text": [
      "              precision    recall  f1-score   support\n",
      "\n",
      "           0       0.88      0.89      0.88        63\n",
      "           1       0.83      0.86      0.85        58\n",
      "           2       0.93      0.90      0.91        77\n",
      "\n",
      "    accuracy                           0.88       198\n",
      "   macro avg       0.88      0.88      0.88       198\n",
      "weighted avg       0.89      0.88      0.88       198\n",
      "\n"
     ]
    }
   ],
   "source": [
    "                                  #ALGORITHM 1 : K-NEIGHBORS\n",
    "\n",
    "from sklearn.neighbors import KNeighborsClassifier\n",
    "from sklearn.metrics import classification_report,ConfusionMatrixDisplay\n",
    "knn=KNeighborsClassifier(n_neighbors=3)\n",
    "knn.fit(X_train,y_train)\n",
    "y_pred=knn.predict(X_test)\n",
    "print(classification_report(y_test,y_pred))\n"
   ]
  },
  {
   "cell_type": "code",
   "execution_count": 23,
   "metadata": {
    "colab": {
     "base_uri": "https://localhost:8080/"
    },
    "id": "KDhEybGGeoX6",
    "outputId": "9987a048-7d46-4a96-c48f-62f95efbf5a7"
   },
   "outputs": [
    {
     "name": "stdout",
     "output_type": "stream",
     "text": [
      "              precision    recall  f1-score   support\n",
      "\n",
      "           0       0.87      0.87      0.87        63\n",
      "           1       0.82      0.86      0.84        58\n",
      "           2       0.92      0.88      0.90        77\n",
      "\n",
      "    accuracy                           0.87       198\n",
      "   macro avg       0.87      0.87      0.87       198\n",
      "weighted avg       0.88      0.87      0.87       198\n",
      "\n"
     ]
    }
   ],
   "source": [
    "                               #2 ALGORITHM 2: SVC\n",
    "                           #BEFORE HYPERPARAMETER TUNING\n",
    "\n",
    "from sklearn.svm import SVC\n",
    "sv=SVC()\n",
    "sv.fit(X_train,y_train)\n",
    "y_pred1=sv.predict(X_test)\n",
    "print(classification_report(y_test,y_pred1))"
   ]
  },
  {
   "cell_type": "code",
   "execution_count": 24,
   "metadata": {
    "colab": {
     "base_uri": "https://localhost:8080/"
    },
    "id": "wQUEZKAyhf1S",
    "outputId": "155376a6-bb41-477b-8ce5-3dbb700e9b17"
   },
   "outputs": [
    {
     "data": {
      "text/plain": [
       "{'C': 100, 'gamma': 0.1, 'kernel': 'rbf'}"
      ]
     },
     "execution_count": 24,
     "metadata": {},
     "output_type": "execute_result"
    }
   ],
   "source": [
    "from sklearn.model_selection import GridSearchCV\n",
    "sv=SVC()\n",
    "params={'C':[0.1,1,10,100],'gamma':[1,0.1,0.01,0.001],'kernel':['rbf','poly','sigmoid']}\n",
    "clf=GridSearchCV(sv,params,cv=5,scoring='accuracy')\n",
    "clf.fit(X_train,y_train)\n",
    "clf.best_params_"
   ]
  },
  {
   "cell_type": "code",
   "execution_count": 25,
   "metadata": {
    "colab": {
     "base_uri": "https://localhost:8080/"
    },
    "id": "5MozQI8Hj6fV",
    "outputId": "9c8d66b9-e6c4-488b-850f-6b0a0ee52463"
   },
   "outputs": [
    {
     "name": "stdout",
     "output_type": "stream",
     "text": [
      "              precision    recall  f1-score   support\n",
      "\n",
      "           0       0.92      0.89      0.90        63\n",
      "           1       0.88      0.90      0.89        58\n",
      "           2       0.92      0.94      0.93        77\n",
      "\n",
      "    accuracy                           0.91       198\n",
      "   macro avg       0.91      0.91      0.91       198\n",
      "weighted avg       0.91      0.91      0.91       198\n",
      "\n"
     ]
    }
   ],
   "source": [
    "                         #AFTER HYPERPARAMETER TUNING\n",
    "\n",
    "sv=SVC(C=100,kernel='poly',gamma=1)\n",
    "sv.fit(X_train,y_train)\n",
    "y_pred1=sv.predict(X_test)\n",
    "print(classification_report(y_test,y_pred1))"
   ]
  },
  {
   "cell_type": "code",
   "execution_count": 26,
   "metadata": {
    "colab": {
     "base_uri": "https://localhost:8080/",
     "height": 466
    },
    "id": "EHN5h9BQOOkX",
    "outputId": "172152c3-ff5d-4995-e824-ae1728b75394"
   },
   "outputs": [
    {
     "name": "stdout",
     "output_type": "stream",
     "text": [
      "<sklearn.metrics._plot.confusion_matrix.ConfusionMatrixDisplay object at 0x127713400>\n"
     ]
    },
    {
     "data": {
      "image/png": "[encoded data removed]",
      "text/plain": [
       "<Figure size 640x480 with 2 Axes>"
      ]
     },
     "metadata": {},
     "output_type": "display_data"
    }
   ],
   "source": [
    "print(ConfusionMatrixDisplay.from_predictions(y_test,y_pred1))"
   ]
  },
  {
   "cell_type": "code",
   "execution_count": 27,
   "metadata": {
    "colab": {
     "base_uri": "https://localhost:8080/"
    },
    "id": "Qz677DtBfFS8",
    "outputId": "27f8fbc5-bd4c-41d0-e17d-9dc7458ef4de"
   },
   "outputs": [
    {
     "name": "stdout",
     "output_type": "stream",
     "text": [
      "              precision    recall  f1-score   support\n",
      "\n",
      "           0       0.80      0.89      0.84        63\n",
      "           1       0.82      0.86      0.84        58\n",
      "           2       0.94      0.82      0.88        77\n",
      "\n",
      "    accuracy                           0.85       198\n",
      "   macro avg       0.85      0.86      0.85       198\n",
      "weighted avg       0.86      0.85      0.85       198\n",
      "\n"
     ]
    }
   ],
   "source": [
    "                                              #ALGORITHM 3 : NAIVE BAYES\n",
    "\n",
    "from sklearn.naive_bayes import GaussianNB\n",
    "nb=GaussianNB()\n",
    "nb.fit(X_train,y_train)\n",
    "y_pred2=nb.predict(X_test)\n",
    "print(classification_report(y_test,y_pred2))"
   ]
  },
  {
   "cell_type": "code",
   "execution_count": 28,
   "metadata": {
    "id": "Vlep_O3PflGh"
   },
   "outputs": [],
   "source": [
    "                                             #ALGORITHM 4: RANDOM FOREST\n",
    "                                             # BEFORE HYPERPARAMETER TUNING\n",
    "\n",
    "from math import sqrt\n",
    "from sklearn.ensemble import RandomForestClassifier\n",
    "rf=RandomForestClassifier()\n"
   ]
  },
  {
   "cell_type": "code",
   "execution_count": 29,
   "metadata": {
    "colab": {
     "base_uri": "https://localhost:8080/"
    },
    "id": "kLcUf53hlQ1t",
    "outputId": "2e2441ae-3abc-4a85-8d28-5c224e9d6cec"
   },
   "outputs": [
    {
     "data": {
      "text/plain": [
       "{'max_depth': 4,\n",
       " 'max_features': 'auto',\n",
       " 'min_samples_leaf': 1,\n",
       " 'min_samples_split': 5,\n",
       " 'n_estimators': 150}"
      ]
     },
     "execution_count": 29,
     "metadata": {},
     "output_type": "execute_result"
    }
   ],
   "source": [
    "rf=RandomForestClassifier()\n",
    "params1={'n_estimators':[25,50,100,150],'max_features':['sqrt','auto'],'max_depth':[2,4],'min_samples_split':[2,5],'min_samples_leaf':[1,2]}\n",
    "clf=GridSearchCV(rf,params1,cv=5,scoring='accuracy')\n",
    "clf.fit(X_train,y_train)\n",
    "clf.best_params_"
   ]
  },
  {
   "cell_type": "code",
   "execution_count": 30,
   "metadata": {
    "colab": {
     "base_uri": "https://localhost:8080/"
    },
    "id": "JsaXQa01BdWi",
    "outputId": "34280119-87c7-4927-b223-0464bf780a71"
   },
   "outputs": [
    {
     "name": "stdout",
     "output_type": "stream",
     "text": [
      "              precision    recall  f1-score   support\n",
      "\n",
      "           0       0.92      0.90      0.91        63\n",
      "           1       0.89      0.93      0.91        58\n",
      "           2       0.93      0.91      0.92        77\n",
      "\n",
      "    accuracy                           0.91       198\n",
      "   macro avg       0.91      0.91      0.91       198\n",
      "weighted avg       0.91      0.91      0.91       198\n",
      "\n"
     ]
    }
   ],
   "source": [
    "                                             #AFTER HYPERPARAMETER TUNING\n",
    "\n",
    "rf=RandomForestClassifier(max_depth= 10,\n",
    " max_features= 'sqrt',\n",
    " min_samples_leaf= 1,\n",
    " min_samples_split= 2,\n",
    " n_estimators= 150)\n",
    "rf.fit(X_train,y_train)\n",
    "y_pred3=rf.predict(X_test)\n",
    "print(classification_report(y_test,y_pred3))"
   ]
  },
  {
   "cell_type": "code",
   "execution_count": 31,
   "metadata": {
    "colab": {
     "base_uri": "https://localhost:8080/",
     "height": 472
    },
    "id": "AEoODCeQS38n",
    "outputId": "b9a8481f-66f1-44c3-f4d1-1f5e44adfba0"
   },
   "outputs": [
    {
     "name": "stdout",
     "output_type": "stream",
     "text": [
      "<sklearn.metrics._plot.confusion_matrix.ConfusionMatrixDisplay object at 0x127818b80>\n"
     ]
    },
    {
     "data": {
      "image/png": "[encoded data removed]",
      "text/plain": [
       "<Figure size 640x480 with 2 Axes>"
      ]
     },
     "metadata": {},
     "output_type": "display_data"
    }
   ],
   "source": [
    "print(ConfusionMatrixDisplay.from_predictions(y_test,y_pred3))"
   ]
  },
  {
   "cell_type": "code",
   "execution_count": 32,
   "metadata": {
    "colab": {
     "base_uri": "https://localhost:8080/"
    },
    "id": "Vc_urhhZf8tG",
    "outputId": "f152989a-3309-4bc9-fad9-c392924617ec"
   },
   "outputs": [
    {
     "name": "stdout",
     "output_type": "stream",
     "text": [
      "              precision    recall  f1-score   support\n",
      "\n",
      "           0       0.91      0.84      0.88        63\n",
      "           1       0.87      0.90      0.88        58\n",
      "           2       0.90      0.94      0.92        77\n",
      "\n",
      "    accuracy                           0.89       198\n",
      "   macro avg       0.89      0.89      0.89       198\n",
      "weighted avg       0.89      0.89      0.89       198\n",
      "\n"
     ]
    }
   ],
   "source": [
    "                                   # ALGORITH 5: DECISION TREE\n",
    "\n",
    "from sklearn.tree import DecisionTreeClassifier\n",
    "clf=DecisionTreeClassifier()\n",
    "clf.fit(X_train,y_train)\n",
    "y_pred4=clf.predict(X_test)\n",
    "print(classification_report(y_test,y_pred4))"
   ]
  },
  {
   "cell_type": "code",
   "execution_count": 33,
   "metadata": {
    "colab": {
     "base_uri": "https://localhost:8080/"
    },
    "id": "SrA-Nz53gH3n",
    "outputId": "4645bd94-713a-4e90-b4da-21a7a988156a"
   },
   "outputs": [
    {
     "name": "stdout",
     "output_type": "stream",
     "text": [
      "              precision    recall  f1-score   support\n",
      "\n",
      "           0       0.92      0.52      0.67        63\n",
      "           1       0.61      0.91      0.73        58\n",
      "           2       0.91      0.88      0.89        77\n",
      "\n",
      "    accuracy                           0.78       198\n",
      "   macro avg       0.81      0.77      0.76       198\n",
      "weighted avg       0.82      0.78      0.77       198\n",
      "\n"
     ]
    }
   ],
   "source": [
    "                                            #ALGORITHM 6: ADABOOST\n",
    "                                            #BEFORE HYPERPARAMETER TUNING\n",
    "\n",
    "from sklearn.ensemble import AdaBoostClassifier\n",
    "ab=AdaBoostClassifier()\n",
    "ab.fit(X_train,y_train)\n",
    "y_pred5=ab.predict(X_test)\n",
    "print(classification_report(y_test,y_pred5))"
   ]
  },
  {
   "cell_type": "code",
   "execution_count": 34,
   "metadata": {
    "colab": {
     "base_uri": "https://localhost:8080/"
    },
    "id": "RKbcvn3IG1Wp",
    "outputId": "f7c7f792-7560-4e36-83c9-e7f1fb86e5be"
   },
   "outputs": [
    {
     "data": {
      "text/plain": [
       "{'algorithm': 'SAMME',\n",
       " 'learning_rate': 1.0,\n",
       " 'n_estimators': 90,\n",
       " 'random_state': 1}"
      ]
     },
     "execution_count": 34,
     "metadata": {},
     "output_type": "execute_result"
    }
   ],
   "source": [
    "ab=AdaBoostClassifier()\n",
    "params2={'n_estimators':[50,70,90,100,150,170,200,300],'algorithm':['SAMME','SAMME.R'],'random_state':[1,2,3,4],'learning_rate':[1.0,2.0,3.0,4.0]}\n",
    "clf=GridSearchCV(ab,params2,cv=5,scoring='accuracy')\n",
    "clf.fit(X_train,y_train)\n",
    "clf.best_params_"
   ]
  },
  {
   "cell_type": "code",
   "execution_count": 35,
   "metadata": {
    "colab": {
     "base_uri": "https://localhost:8080/"
    },
    "id": "Dhfp79o-HLtl",
    "outputId": "902c8239-054d-4cca-a1cf-149723c25fd7"
   },
   "outputs": [
    {
     "name": "stdout",
     "output_type": "stream",
     "text": [
      "              precision    recall  f1-score   support\n",
      "\n",
      "           0       0.89      0.87      0.88        63\n",
      "           1       0.84      0.88      0.86        58\n",
      "           2       0.91      0.88      0.89        77\n",
      "\n",
      "    accuracy                           0.88       198\n",
      "   macro avg       0.88      0.88      0.88       198\n",
      "weighted avg       0.88      0.88      0.88       198\n",
      "\n"
     ]
    }
   ],
   "source": [
    "                                          #AFTER HYPERPARAMETER TUNING\n",
    "\n",
    "ab=AdaBoostClassifier(algorithm='SAMME',learning_rate=1.0,n_estimators=170,random_state=1)\n",
    "ab.fit(X_train,y_train)\n",
    "y_pred5=ab.predict(X_test)\n",
    "print(classification_report(y_test,y_pred5))"
   ]
  },
  {
   "cell_type": "code",
   "execution_count": 36,
   "metadata": {
    "colab": {
     "base_uri": "https://localhost:8080/"
    },
    "id": "vqHiJ6dsE8e1",
    "outputId": "0d3fa60a-4021-4e42-f497-c05a24ae82d6"
   },
   "outputs": [
    {
     "name": "stdout",
     "output_type": "stream",
     "text": [
      "              precision    recall  f1-score   support\n",
      "\n",
      "           0       0.92      0.89      0.90        63\n",
      "           1       0.87      0.93      0.90        58\n",
      "           2       0.93      0.91      0.92        77\n",
      "\n",
      "    accuracy                           0.91       198\n",
      "   macro avg       0.91      0.91      0.91       198\n",
      "weighted avg       0.91      0.91      0.91       198\n",
      "\n"
     ]
    }
   ],
   "source": [
    "                                         #ALGORITHM 7: GRADIENT BOOSTING CLASSIFIER\n",
    "from sklearn.ensemble import GradientBoostingClassifier\n",
    "gb=GradientBoostingClassifier(n_estimators=500,learning_rate=0.4,max_depth=8,random_state=1)\n",
    "gb.fit(X_train,y_train)\n",
    "y_pred6=gb.predict(X_test)\n",
    "print(classification_report(y_test,y_pred6))"
   ]
  },
  {
   "cell_type": "markdown",
   "metadata": {
    "id": "tleSrnWKCM7C"
   },
   "source": [
    "### **FROM THE ABOVE OBSERVATIONS IT IS CLEAR THAT SVC,RANDOM FOREST AND GRADIENT BOOSTING CLASSIFIER ARE THE APPROPRIATE ALGORITHMS FOR PREDICTIONS WITH AN ACCURACY OF 91%**"
   ]
  },
  {
   "cell_type": "markdown",
   "metadata": {
    "id": "zqFGf18CryWu"
   },
   "source": [
    "# **SAVING THE MODEL**"
   ]
  },
  {
   "cell_type": "code",
   "execution_count": 37,
   "metadata": {
    "id": "2sS_7dODgZ-8"
   },
   "outputs": [],
   "source": [
    "import pickle\n",
    "pickle.dump(sv,open('sleep_disorder_model.pk','wb'))"
   ]
  },
  {
   "cell_type": "code",
   "execution_count": 38,
   "metadata": {},
   "outputs": [],
   "source": [
    "## Gender: X (Assuming Zero represents female , One represents male based on your previous code).\n",
    "## Age: A years.\n",
    "## Occupation:  (Numerical value corresponding to a specific occupation category).\n",
    "\n",
    "## Doctor: One\n",
    "## Engineer: Two\n",
    "## Nurse: Three\n",
    "## Teacher: Four\n",
    "## Sales Representative: Five\n",
    "## Lawyer: Six\n",
    "## Accountant: Seven\n",
    "## Scientist: Eight\n",
    "## Manager: Nine\n",
    "\n",
    "## Sleep Duration: B hours.\n",
    "## Quality of Sleep: C (A numerical rating  score  sleep quality).\n",
    "## Physical Activity Level: D (Some measure of physical activity level).\n",
    "## Stress Level: E (Some measure of stress level).\n",
    "## BMI Category: F (A numerical encoding  BMI category).\n",
    "## Heart Rate: G beats per minute.\n",
    "## Daily Steps: H steps per day.\n",
    "## Systolic Blood Pressure: I mm Hg.\n",
    "## Diastolic Blood Pressure: J mm Hg.\n",
    "\n"
   ]
  },
  {
   "cell_type": "code",
   "execution_count": 3,
   "metadata": {
    "scrolled": true
   },
   "outputs": [
    {
     "name": "stdout",
     "output_type": "stream",
     "text": [
      "Enter gender (0 for male, 1 for female): 0\n",
      "Enter age (between 14 and 100): 19\n",
      "Enter occupation code: 2\n",
      "Enter sleep duration (hours): 6\n",
      "Enter sleep quality (numeric rating (from 1 to 10): 7\n",
      "Enter physical activity level (from 1 to 100): 80\n",
      "Enter stress level (from 1 to 10): 4\n",
      "Enter BMI category (Underweight: 0 , Normal Weight: 1 , Overweight: 2 , Obese: 3): 1\n",
      "Enter heart rate (beats per minute): 80\n",
      "Enter daily steps: 7000\n",
      "Enter systolic blood pressure (mm Hg): \n",
      "Invalid input. Please enter a valid number.\n",
      "Enter systolic blood pressure (mm Hg): 125\n",
      "Enter diastolic blood pressure (mm Hg): 83\n",
      "This person is alright. No specific sleep disorder detected.\n",
      "Suggested hours of sleep: 7-9 hours.\n",
      "Suggested daily water intake: 8-10 glasses (about 2-2.5 liters) of water.\n"
     ]
    }
   ],
   "source": [
    "import pickle\n",
    "import numpy as np\n",
    "\n",
    "# Loading the trained machine learning model\n",
    "model_loaded = pickle.load(open('sleep_disorder_model.pk', 'rb'))\n",
    "\n",
    "# Function to get valid gender input (0 for male, 1 for female)\n",
    "def get_gender_input():\n",
    "    while True:\n",
    "        gender_input = input(\"Enter gender (0 for male, 1 for female): \")\n",
    "        if gender_input in ('0', '1'):\n",
    "            return int(gender_input)\n",
    "        else:\n",
    "            print(\"Invalid input. Please enter 0 for male or 1 for female.\")\n",
    "\n",
    "# Function to get valid age input (between 14 and 100)\n",
    "def get_age_input():\n",
    "    while True:\n",
    "        try:\n",
    "            age_input = int(input(\"Enter age (between 14 and 100): \"))\n",
    "            if 14 <= age_input <= 100:\n",
    "                return age_input\n",
    "            else:\n",
    "                print(\"Age must be between 14 and 100.\")\n",
    "        except ValueError:\n",
    "            print(\"Invalid input. Please enter a valid age as a number.\")\n",
    "\n",
    "# Function to get other numerical inputs\n",
    "def get_numeric_input(prompt):\n",
    "    while True:\n",
    "        try:\n",
    "            numeric_input = float(input(prompt))\n",
    "            return numeric_input\n",
    "        except ValueError:\n",
    "            print(\"Invalid input. Please enter a valid number.\")\n",
    "\n",
    "# Geting user inputs for various features\n",
    "gender = get_gender_input()\n",
    "age = get_age_input()\n",
    "occupation = get_numeric_input(\"Enter occupation code: \")\n",
    "sleep_duration = get_numeric_input(\"Enter sleep duration (hours): \")\n",
    "quality_of_sleep = get_numeric_input(\"Enter sleep quality (numeric rating (from 1 to 10): \")\n",
    "physical_activity = get_numeric_input(\"Enter physical activity level (from 1 to 100): \")\n",
    "stress_level = get_numeric_input(\"Enter stress level (from 1 to 10): \")\n",
    "bmi_category = get_numeric_input(\"Enter BMI category (Underweight: 0 , Normal Weight: 1 , Overweight: 2 , Obese: 3): \")\n",
    "heart_rate = get_numeric_input(\"Enter heart rate (beats per minute): \")\n",
    "daily_steps = get_numeric_input(\"Enter daily steps: \")\n",
    "systolic_bp = get_numeric_input(\"Enter systolic blood pressure (mm Hg): \")\n",
    "diastolic_bp = get_numeric_input(\"Enter diastolic blood pressure (mm Hg): \")\n",
    "\n",
    "# Creating an input data array\n",
    "input_data = (\n",
    "    gender, age, occupation, sleep_duration, quality_of_sleep, physical_activity,\n",
    "    stress_level, bmi_category, heart_rate, daily_steps, systolic_bp, diastolic_bp\n",
    ")\n",
    "\n",
    "# Reshaping the input data and make the prediction\n",
    "input_numpy = np.asarray(input_data)\n",
    "input_data_reshape = input_numpy.reshape(1, -1)\n",
    "prediction = model_loaded.predict(input_data_reshape)\n",
    "\n",
    "\n",
    "    \n",
    "if(prediction[0] == 0):\n",
    "    print(\"This person has insomnia. Recommendations:\\n\"\n",
    "          \"1. Maintain a consistent sleep schedule.\\n\"\n",
    "          \"2. Practice relaxation techniques before bedtime.\\n\"\n",
    "          \"3. Reduce caffeine and alcohol intake close to bedtime.\\n\"\n",
    "          \"4. Create a calm and comfortable sleep environment.\\n\"\n",
    "          \"   - Ensure the bedroom is dark, quiet, and cool.\\n\"\n",
    "          \"   - Consider using blackout curtains, earplugs, or white noise if needed.\\n\"\n",
    "          \"5. Limit screen time at least one hour before bedtime.\\n\"\n",
    "          \"6. Engage in regular, light physical activity, such as gentle yoga.\\n\"\n",
    "          \"7. Avoid heavy meals and large liquid intake close to bedtime.\\n\"\n",
    "          \"8. Practice stress-reduction techniques like meditation or deep breathing.\\n\"\n",
    "          \"9. Limit daytime naps, and keep them short (20-30 minutes).\\n\"\n",
    "          \"10. Seek professional help if insomnia persists.\\n\"\n",
    "          \"    - Consult a healthcare provider for further evaluation and guidance.\\n\"\n",
    "          \"Suggested hours of sleep: 7-8 hours.\\n\"\n",
    "          \"Suggested daily water intake: 8-10 glasses (about 2-2.5 liters) of water.\")\n",
    "elif(prediction[0] == 1):\n",
    "    print(\"This person is alright. No specific sleep disorder detected.\\n\"\n",
    "          \"Suggested hours of sleep: 7-9 hours.\\n\"\n",
    "          \"Suggested daily water intake: 8-10 glasses (about 2-2.5 liters) of water.\")\n",
    "else:\n",
    "    print(\"This person has sleep apnea. Recommendations:\\n\"\n",
    "          \"1. Consult a healthcare professional for a sleep study and diagnosis.\\n\"\n",
    "          \"2. Consider lifestyle changes such as weight loss and regular exercise.\\n\"\n",
    "          \"3. Follow prescribed treatment, which may include CPAP therapy.\\n\"\n",
    "          \"   - Use a CPAP machine as directed by a healthcare provider.\\n\"\n",
    "          \"4. Create a comfortable sleep environment with proper sleep posture.\\n\"\n",
    "          \"Suggested hours of sleep: 7-8 hours.\\n\"\n",
    "          \"Suggested daily water intake: 8-10 glasses (about 2-2.5 liters) of water.\")\n",
    "   \n",
    "   "
   ]
  },
  {
   "cell_type": "code",
   "execution_count": null,
   "metadata": {},
   "outputs": [],
   "source": []
  }
 ],
 "metadata": {
  "colab": {
   "provenance": []
  },
  "kernelspec": {
   "display_name": "Python 3 (ipykernel)",
   "language": "python",
   "name": "python3"
  },
  "language_info": {
   "codemirror_mode": {
    "name": "ipython",
    "version": 3
   },
   "file_extension": ".py",
   "mimetype": "text/x-python",
   "name": "python",
   "nbconvert_exporter": "python",
   "pygments_lexer": "ipython3",
   "version": "3.10.13"
  }
 },
 "nbformat": 4,
 "nbformat_minor": 1
}
